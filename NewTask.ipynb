{
  "cells": [
    {
      "cell_type": "markdown",
      "metadata": {
        "id": "view-in-github",
        "colab_type": "text"
      },
      "source": [
        "<a href=\"https://colab.research.google.com/github/Harsha194/House-Price_Prediction/blob/main/NewTask.ipynb\" target=\"_parent\"><img src=\"https://colab.research.google.com/assets/colab-badge.svg\" alt=\"Open In Colab\"/></a>"
      ]
    },
    {
      "cell_type": "code",
      "execution_count": 1,
      "metadata": {
        "colab": {
          "base_uri": "https://localhost:8080/"
        },
        "id": "eSRKR1S_rjw5",
        "outputId": "f4c7d248-6144-4ff9-9d13-d576d96f3d55"
      },
      "outputs": [
        {
          "output_type": "stream",
          "name": "stdout",
          "text": [
            "Requirement already satisfied: pyngrok in /usr/local/lib/python3.11/dist-packages (7.2.11)\n",
            "Requirement already satisfied: PyYAML>=5.1 in /usr/local/lib/python3.11/dist-packages (from pyngrok) (6.0.2)\n"
          ]
        }
      ],
      "source": [
        "!pip install pyngrok\n",
        "from pyngrok import conf\n",
        "conf.get_default().auth_token = \"2yOil2tG978qIxy6QhvAnytn5yv_7S6febgh3x4SRNMoR4LL3\""
      ]
    },
    {
      "cell_type": "code",
      "source": [
        "from flask import Flask, render_template, request\n",
        "from pyngrok import ngrok\n",
        "import pickle\n",
        "import numpy as np\n",
        "import os\n",
        "\n",
        "# Create Flask app\n",
        "app = Flask(__name__)\n",
        "\n",
        "# Load trained model\n",
        "with open('house_price_prediction.pkl', 'rb') as f:\n",
        "    model = pickle.load(f)\n",
        "\n",
        "# Define routes\n",
        "@app.route('/')\n",
        "def home():\n",
        "    return render_template('index1.html')\n",
        "\n",
        "@app.route('/predict', methods=['POST'])\n",
        "def predict():\n",
        "    try:\n",
        "        fields = ['CRIM', 'ZN', 'INDUS', 'CHAS', 'NOX', 'RM',\n",
        "                  'AGE', 'DIS', 'RAD', 'TAX', 'PTRATIO', 'B', 'LSTAT']\n",
        "        features = [float(request.form[field]) for field in fields]\n",
        "        prediction = model.predict([features])[0]\n",
        "        output = round(prediction, 2)\n",
        "        return render_template('index1.html', prediction_text=f\"Predicted Price: {output}\")\n",
        "    except Exception as e:\n",
        "        return render_template('index1.html', prediction_text=\"\", error=f\"⚠️ Invalid input: {str(e)}\")\n",
        "\n",
        "    features_array = np.array([features])\n",
        "    prediction = model.predict(features_array)\n",
        "    output = round(prediction[0], 2)\n",
        "    return render_template('index1.html', prediction_text=f\"Predicted Price: {output}\")\n",
        "\n",
        "# Run the app with ngrok tunnel\n",
        "if __name__ == '__main__':\n",
        "    # Create templates folder if it doesn't exist\n",
        "    if not os.path.exists('templates'):\n",
        "        os.mkdir('templates')\n",
        "\n",
        "    # Move index.html if necessary\n",
        "    if os.path.exists('index1.html') and not os.path.exists('templates/index1.html'):\n",
        "        os.rename('index1.html', 'templates/index1.html')\n",
        "\n",
        "    # Start ngrok tunnel\n",
        "    public_url = ngrok.connect(5000)\n",
        "    print(f\"🌐 Your app is live at: {public_url}\")\n",
        "\n",
        "    app.run()\n"
      ],
      "metadata": {
        "colab": {
          "base_uri": "https://localhost:8080/"
        },
        "id": "B5IeoIft_IzI",
        "outputId": "8dca67f3-f7c5-4178-ed6f-dfc934b85b96"
      },
      "execution_count": null,
      "outputs": [
        {
          "metadata": {
            "tags": null
          },
          "name": "stdout",
          "output_type": "stream",
          "text": [
            "🌐 Your app is live at: NgrokTunnel: \"https://0d3d-34-138-188-151.ngrok-free.app\" -> \"http://localhost:5000\"\n",
            " * Serving Flask app '__main__'\n",
            " * Debug mode: off\n"
          ]
        },
        {
          "output_type": "stream",
          "name": "stderr",
          "text": [
            "INFO:werkzeug:\u001b[31m\u001b[1mWARNING: This is a development server. Do not use it in a production deployment. Use a production WSGI server instead.\u001b[0m\n",
            " * Running on http://127.0.0.1:5000\n",
            "INFO:werkzeug:\u001b[33mPress CTRL+C to quit\u001b[0m\n",
            "WARNING:pyngrok.process.ngrok:t=2025-06-12T07:51:08+0000 lvl=warn msg=\"failed to check for update\" obj=updater err=\"Post \\\"https://update.equinox.io/check\\\": context deadline exceeded\"\n",
            "INFO:werkzeug:127.0.0.1 - - [12/Jun/2025 07:51:27] \"GET / HTTP/1.1\" 200 -\n",
            "INFO:werkzeug:127.0.0.1 - - [12/Jun/2025 07:51:29] \"\u001b[33mGET /favicon.ico HTTP/1.1\u001b[0m\" 404 -\n",
            "/usr/local/lib/python3.11/dist-packages/sklearn/utils/validation.py:2739: UserWarning: X does not have valid feature names, but LinearRegression was fitted with feature names\n",
            "  warnings.warn(\n",
            "INFO:werkzeug:127.0.0.1 - - [12/Jun/2025 07:52:49] \"POST /predict HTTP/1.1\" 200 -\n",
            "INFO:werkzeug:127.0.0.1 - - [12/Jun/2025 08:08:26] \"\u001b[33mGET /sourceMap/edge/css/interactive_balloon.css.map HTTP/1.1\u001b[0m\" 404 -\n",
            "INFO:werkzeug:127.0.0.1 - - [12/Jun/2025 08:08:26] \"\u001b[33mGET /sourceMap/edge/css/download_scan_popup.css.map HTTP/1.1\u001b[0m\" 404 -\n",
            "INFO:werkzeug:127.0.0.1 - - [12/Jun/2025 08:08:26] \"\u001b[33mGET /sourceMap/edge/css/download_scan_popup.css.map HTTP/1.1\u001b[0m\" 404 -\n"
          ]
        }
      ]
    }
  ],
  "metadata": {
    "colab": {
      "provenance": [],
      "authorship_tag": "ABX9TyOIhBrDuCAZldwdVur+XSJ3",
      "include_colab_link": true
    },
    "kernelspec": {
      "display_name": "Python 3",
      "name": "python3"
    },
    "language_info": {
      "name": "python"
    }
  },
  "nbformat": 4,
  "nbformat_minor": 0
}